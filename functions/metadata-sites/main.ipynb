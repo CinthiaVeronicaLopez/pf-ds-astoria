{
 "cells": [
  {
   "cell_type": "code",
   "execution_count": 1,
   "metadata": {},
   "outputs": [],
   "source": [
    "import pandas as pd\n",
    "import json\n",
    "import os"
   ]
  },
  {
   "cell_type": "code",
   "execution_count": 2,
   "metadata": {},
   "outputs": [],
   "source": [
    "# Normalizar Categorías\n",
    "def normalize_categories(category_list):\n",
    "    '''\n",
    "    Normaliza la lista de categorías\n",
    "    '''\n",
    "    if category_list is not None:\n",
    "        return [category.strip() for category in category_list]\n",
    "    else:\n",
    "        return None"
   ]
  },
  {
   "cell_type": "code",
   "execution_count": 3,
   "metadata": {},
   "outputs": [],
   "source": [
    "# Normalizar Horas\n",
    "def normalize_hours(hours_list):\n",
    "    '''\n",
    "    Normaliza la lista de horas\n",
    "    '''\n",
    "    if hours_list is not None:\n",
    "        normalized_hours = []\n",
    "        for day_hours in hours_list:\n",
    "            if len(day_hours) == 2:\n",
    "                day, hours = day_hours\n",
    "                normalized_day_hours = f\"{day}: {hours}\"\n",
    "                normalized_hours.append(normalized_day_hours)\n",
    "        return normalized_hours\n",
    "    else:\n",
    "        return None"
   ]
  },
  {
   "cell_type": "code",
   "execution_count": 20,
   "metadata": {},
   "outputs": [],
   "source": [
    "# Normalizar Json\n",
    "def normalize(j):\n",
    "    '''\n",
    "    Normaliza el json\n",
    "    '''\n",
    "    fields = ['name', 'address', 'gmap_id', 'description', 'latitude', 'longitude', 'category', 'avg_rating', 'num_of_reviews', 'price', 'hours', 'state', 'url']\n",
    "    df = pd.DataFrame(j, columns=fields)\n",
    "    df['category'] = df['category'].apply(normalize_categories)\n",
    "    df_meta = df.dropna(subset=['category'])\n",
    "    df_meta = df_meta.explode('category')\n",
    "    # df_meta = df_meta.drop(columns=['relative_results'])\n",
    "    # df_meta = df_meta.drop(columns=['MISC'])\n",
    "    df_meta['hours'] = df_meta['hours'].apply(normalize_hours)\n",
    "    df_meta['hours'] = df_meta['hours'].apply(lambda x: ', '.join(x) if x is not None else None)\n",
    "    return df_meta"
   ]
  },
  {
   "cell_type": "code",
   "execution_count": 38,
   "metadata": {},
   "outputs": [
    {
     "data": {
      "text/html": [
       "<div>\n",
       "<style scoped>\n",
       "    .dataframe tbody tr th:only-of-type {\n",
       "        vertical-align: middle;\n",
       "    }\n",
       "\n",
       "    .dataframe tbody tr th {\n",
       "        vertical-align: top;\n",
       "    }\n",
       "\n",
       "    .dataframe thead th {\n",
       "        text-align: right;\n",
       "    }\n",
       "</style>\n",
       "<table border=\"1\" class=\"dataframe\">\n",
       "  <thead>\n",
       "    <tr style=\"text-align: right;\">\n",
       "      <th></th>\n",
       "      <th>name</th>\n",
       "      <th>address</th>\n",
       "      <th>gmap_id</th>\n",
       "      <th>description</th>\n",
       "      <th>latitude</th>\n",
       "      <th>longitude</th>\n",
       "      <th>category</th>\n",
       "      <th>avg_rating</th>\n",
       "      <th>num_of_reviews</th>\n",
       "      <th>price</th>\n",
       "      <th>hours</th>\n",
       "      <th>state</th>\n",
       "      <th>url</th>\n",
       "    </tr>\n",
       "  </thead>\n",
       "  <tbody>\n",
       "    <tr>\n",
       "      <th>0</th>\n",
       "      <td>Lummi Island Beach Access</td>\n",
       "      <td>Lummi Island Beach Access, 2198 N Nugent Rd, L...</td>\n",
       "      <td>0x548599933f20ddf9:0x27ab1d69c266db7b</td>\n",
       "      <td>None</td>\n",
       "      <td>48.721761</td>\n",
       "      <td>-122.683155</td>\n",
       "      <td>Tourist attraction</td>\n",
       "      <td>3.7</td>\n",
       "      <td>6</td>\n",
       "      <td>None</td>\n",
       "      <td>None</td>\n",
       "      <td>Open now</td>\n",
       "      <td>https://www.google.com/maps/place//data=!4m2!3...</td>\n",
       "    </tr>\n",
       "  </tbody>\n",
       "</table>\n",
       "</div>"
      ],
      "text/plain": [
       "                        name  \\\n",
       "0  Lummi Island Beach Access   \n",
       "\n",
       "                                             address  \\\n",
       "0  Lummi Island Beach Access, 2198 N Nugent Rd, L...   \n",
       "\n",
       "                                 gmap_id description   latitude   longitude  \\\n",
       "0  0x548599933f20ddf9:0x27ab1d69c266db7b        None  48.721761 -122.683155   \n",
       "\n",
       "             category  avg_rating  num_of_reviews price hours     state  \\\n",
       "0  Tourist attraction         3.7               6  None  None  Open now   \n",
       "\n",
       "                                                 url  \n",
       "0  https://www.google.com/maps/place//data=!4m2!3...  "
      ]
     },
     "execution_count": 38,
     "metadata": {},
     "output_type": "execute_result"
    }
   ],
   "source": [
    "\n",
    "# Obtener los datos del evento\n",
    "# data = cloud_event.data\n",
    "bucket_name = '../../assets/metadata-sites'#data[\"bucket\"]\n",
    "file_name = '0.json'#data[\"name\"]\n",
    "# Leer el json de GCS\n",
    "# blob = read_json_from_gcs(bucket_name, file_name)    \n",
    "category_selected = 'Tourist attraction'\n",
    "# leer el archivo json linea por linea y ejecutar la función normalize\n",
    "df = pd.DataFrame() \n",
    "# for line in blob.download_as_string().decode(\"utf-8\").splitlines():\n",
    "with open(bucket_name+'/'+file_name, 'r') as f:\n",
    "    for line in f.readlines():   \n",
    "        # Lee el archivo JSON\n",
    "        j = json.loads(line)\n",
    "        normalized = normalize([j])\n",
    "        # Seleccionar solo las atracciones turísticas\n",
    "        normalized = normalized[normalized['category'].str.contains(category_selected, case=False, na=False)]\n",
    "        # Concatenar el json normalizado al dataframe\n",
    "        if not normalized.empty:\n",
    "            df = pd.concat([df, normalized])  \n",
    "df\n",
    "# # Guardar el json normalizado en BigQuery\n",
    "# project_id = os.environ.get('GCP_PROJECT')\n",
    "# dataset_id = 'metadata-sites'\n",
    "# table_id = 'metadata-sites'"
   ]
  },
  {
   "cell_type": "code",
   "execution_count": 24,
   "metadata": {},
   "outputs": [
    {
     "data": {
      "text/plain": [
       "name              0\n",
       "address           0\n",
       "gmap_id           0\n",
       "description       0\n",
       "latitude          0\n",
       "longitude         0\n",
       "category          0\n",
       "avg_rating        0\n",
       "num_of_reviews    0\n",
       "price             0\n",
       "hours             0\n",
       "state             0\n",
       "url               0\n",
       "dtype: int64"
      ]
     },
     "execution_count": 24,
     "metadata": {},
     "output_type": "execute_result"
    }
   ],
   "source": [
    "df.memory_usage(deep = True, index = False)"
   ]
  }
 ],
 "metadata": {
  "kernelspec": {
   "display_name": "Python 3",
   "language": "python",
   "name": "python3"
  },
  "language_info": {
   "codemirror_mode": {
    "name": "ipython",
    "version": 3
   },
   "file_extension": ".py",
   "mimetype": "text/x-python",
   "name": "python",
   "nbconvert_exporter": "python",
   "pygments_lexer": "ipython3",
   "version": "3.10.0"
  }
 },
 "nbformat": 4,
 "nbformat_minor": 2
}
