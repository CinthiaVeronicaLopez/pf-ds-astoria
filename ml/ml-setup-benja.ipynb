{
 "cells": [
  {
   "cell_type": "code",
   "execution_count": 22,
   "id": "ff180bec-8096-4a40-a4a1-5346a957ee38",
   "metadata": {},
   "outputs": [],
   "source": [
    "USER_FLAG = \"--user\""
   ]
  },
  {
   "cell_type": "code",
   "execution_count": 23,
   "id": "ed2f1fc7-df8e-405f-be51-09a5ae3fd31e",
   "metadata": {},
   "outputs": [],
   "source": [
    "!pip3 install {USER_FLAG} google-cloud-aiplatform>=1.7.0 --upgrade\n",
    "!pip3 install {USER_FLAG} kfp>=1.8.9 google-cloud-pipeline-components>=0.2.0"
   ]
  },
  {
   "cell_type": "code",
   "execution_count": 24,
   "id": "5bde79a6-505d-45f8-a9f0-ed55691fedc5",
   "metadata": {},
   "outputs": [],
   "source": [
    "import os\n",
    "\n",
    "if not os.getenv(\"IS_TESTING\"):\n",
    "    # Automatically restart kernel after installs\n",
    "    import IPython\n",
    "\n",
    "    app = IPython.Application.instance()\n",
    "    app.kernel.do_shutdown(True)"
   ]
  },
  {
   "cell_type": "code",
   "execution_count": 1,
   "id": "0aa04117-14a9-4392-a1aa-5abfb6306ffa",
   "metadata": {},
   "outputs": [
    {
     "name": "stdout",
     "output_type": "stream",
     "text": [
      "KFP SDK version: 1.8.22\n",
      "google_cloud_pipeline_components version: 0.2.0\n"
     ]
    }
   ],
   "source": [
    "!python3 -c \"import kfp; print('KFP SDK version: {}'.format(kfp.__version__))\"\n",
    "!python3 -c \"import google_cloud_pipeline_components; print('google_cloud_pipeline_components version: {}'.format(google_cloud_pipeline_components.__version__))\""
   ]
  },
  {
   "cell_type": "code",
   "execution_count": 2,
   "id": "51162223-172c-4b58-8b3e-91d232887cf5",
   "metadata": {},
   "outputs": [
    {
     "name": "stdout",
     "output_type": "stream",
     "text": [
      "Project ID:  oa-suarez-prueba\n"
     ]
    }
   ],
   "source": [
    "import os\n",
    "PROJECT_ID = \"\"\n",
    "\n",
    "# Get your Google Cloud project ID from gcloud\n",
    "if not os.getenv(\"IS_TESTING\"):\n",
    "    shell_output=!gcloud config list --format 'value(core.project)' 2>/dev/null\n",
    "    PROJECT_ID = shell_output[0]\n",
    "    print(\"Project ID: \", PROJECT_ID)"
   ]
  },
  {
   "cell_type": "code",
   "execution_count": 6,
   "id": "a26f54b4-43d2-4be2-9297-a7b49749eef5",
   "metadata": {},
   "outputs": [],
   "source": [
    "BUCKET_NAME=\"gs://\" + PROJECT_ID + \"-oa-suarez-merchan\""
   ]
  },
  {
   "cell_type": "code",
   "execution_count": 4,
   "id": "2bbfbff0-8e4c-47c5-a837-90851572d89e",
   "metadata": {},
   "outputs": [],
   "source": [
    "import kfp\n",
    "\n",
    "from kfp.v2 import compiler, dsl\n",
    "from kfp.v2.dsl import component, pipeline, Artifact, ClassificationMetrics, Input, Output, Model, Metrics\n",
    "\n",
    "from google.cloud import aiplatform\n",
    "from google_cloud_pipeline_components import aiplatform as gcc_aip\n",
    "from typing import NamedTuple"
   ]
  },
  {
   "cell_type": "code",
   "execution_count": 7,
   "id": "f51bc965-6e20-40b4-826a-e4b26a0cd2a6",
   "metadata": {},
   "outputs": [
    {
     "name": "stdout",
     "output_type": "stream",
     "text": [
      "env: PATH=/usr/local/cuda/bin:/opt/conda/bin:/opt/conda/condabin:/usr/local/bin:/usr/bin:/bin:/usr/local/games:/usr/games:/home/jupyter/.local/bin:/home/jupyter/.local/bin\n"
     ]
    },
    {
     "data": {
      "text/plain": [
       "'gs://oa-suarez-prueba-oa-suarez-merchan/pipeline_root/'"
      ]
     },
     "execution_count": 7,
     "metadata": {},
     "output_type": "execute_result"
    }
   ],
   "source": [
    "PATH=%env PATH\n",
    "%env PATH={PATH}:/home/jupyter/.local/bin\n",
    "REGION=\"us-central1\"\n",
    "\n",
    "PIPELINE_ROOT = f\"{BUCKET_NAME}/pipeline_root/\"\n",
    "PIPELINE_ROOT"
   ]
  },
  {
   "cell_type": "code",
   "execution_count": 46,
   "id": "6e2c2bec-a762-4cf2-88fd-2562281cbfb7",
   "metadata": {},
   "outputs": [],
   "source": [
    "@component(base_image=\"python:3.9\", output_component_file=\"first-component.yaml\")\n",
    "def product_name(text: str) -> str:\n",
    "    return text"
   ]
  },
  {
   "cell_type": "code",
   "execution_count": 98,
   "id": "397c715b-3612-4234-9540-a0dc4bed84d7",
   "metadata": {},
   "outputs": [],
   "source": [
    "from kfp.v2.dsl import component, Output, Dataset\n",
    "\n",
    "\n",
    "@component(packages_to_install=[\"pandas\", \"gcsfs\"])\n",
    "def load_data_from_gcs(\n",
    "    bucket_name: str,\n",
    "    file_path: str,\n",
    "    output_data: Output[Dataset]\n",
    "):\n",
    "    import gcsfs\n",
    "    import pandas as pd\n",
    "    \"\"\"Un componente para cargar datos de un archivo CSV en Google Cloud Storage.\"\"\"\n",
    "    fs = gcsfs.GCSFileSystem()\n",
    "    gcs_file_path = f'gs://{bucket_name}/{file_path}'\n",
    " \n",
    "    df_nuevo = pd.read_csv(gcs_file_path)\n",
    "    fl_df = df_nuevo\n",
    "    fl_df = fl_df.sort_values('date')\n",
    "    fl_df['Checkin_MA_180'] = fl_df['checkin'].rolling(window=180).mean()\n",
    "    fl_df['Locales_Abiertos_MA_180'] = fl_df['Locales_Abiertos'].rolling(window=180).mean()\n",
    "    fl_df['Checkin_MA_50'] = fl_df['checkin'].rolling(window=50).mean()\n",
    "    fl_df['Locales_Abiertos_MA_50'] = fl_df['Locales_Abiertos'].rolling(window=50).mean()\n",
    "    fl_df['Checkin_MA_365'] = fl_df['checkin'].rolling(window=365).mean()\n",
    "    fl_df['Locales_Abiertos_MA_365'] = fl_df['Locales_Abiertos'].rolling(window=365).mean()\n",
    "    fl_df_cleaned = fl_df.dropna()\n",
    "    fl_df = fl_df_cleaned\n",
    "    fl_df['date'] = pd.to_datetime(df_nuevo['date'])\n",
    "    fl_df.sort_values(by=['date'], inplace=True)\n",
    "    lagged_df = fl_df.copy()\n",
    "    lagged_df['Locales_Abiertos_Lag180Dias'] = lagged_df['Locales_Abiertos'].transform(lambda x: x.shift(1))\n",
    "    lagged_df_cleaned = lagged_df.dropna()\n",
    "    lagged_df = lagged_df_cleaned\n",
    "\n",
    "    # Guarda el DataFrame como un archivo CSV en la ruta de salida del componente\n",
    "    lagged_df.to_csv(output_data.path, index=False)\n",
    "\n",
    "    print(f\"Datos cargados y guardados en {output_data.path}\")\n"
   ]
  },
  {
   "cell_type": "code",
   "execution_count": 123,
   "id": "d807d231-28bf-49d6-aa8c-00a95e963fb3",
   "metadata": {},
   "outputs": [],
   "source": [
    "from kfp.v2.dsl import component, Input\n",
    "\n",
    "@component(packages_to_install=[\"pandas\", \"scikit-learn\"])\n",
    "def train_and_evaluate_model(\n",
    "    dataset: Input[Dataset],\n",
    "    model_output: Output[Model]\n",
    "):\n",
    "    import pandas as pd\n",
    "    from sklearn.ensemble import RandomForestRegressor\n",
    "    from sklearn.model_selection import train_test_split\n",
    "    from sklearn.metrics import mean_squared_error, mean_absolute_error\n",
    "    from math import sqrt\n",
    "    import joblib\n",
    "    # Carga el dataset preprocesado\n",
    "    df = pd.read_csv(dataset.path)\n",
    "\n",
    "    # Preparar los datos para entrenamiento\n",
    "    X = df[['Checkin_MA_50','Checkin_MA_180','Checkin_MA_365', 'Locales_Abiertos_MA_50','Locales_Abiertos_MA_180','Locales_Abiertos_MA_365','Locales_Abiertos','checkin']]\n",
    "    y = df['Locales_Abiertos_Lag180Dias']\n",
    "\n",
    "    # Dividir los datos en conjuntos de entrenamiento y prueba\n",
    "    X_train, X_test, y_train, y_test = train_test_split(X, y, test_size=0.2, random_state=42)\n",
    "\n",
    "    # Entrenar el modelo\n",
    "    rf = RandomForestRegressor(n_estimators=50, random_state=42)\n",
    "    rf.fit(X_train, y_train)\n",
    "    joblib.dump(rf, model_output.path) \n",
    "    \n",
    "    # Predecir en el conjunto de prueba\n",
    "    y_pred = rf.predict(X_test)\n",
    "\n",
    "\n"
   ]
  },
  {
   "cell_type": "code",
   "execution_count": 134,
   "id": "2f7d01de-0712-4d77-9791-5e8f3eabe1b3",
   "metadata": {},
   "outputs": [],
   "source": [
    "from kfp.v2.dsl import component, Input, Output, Model, Dataset\n",
    "\n",
    "@component(packages_to_install=[\"pandas\", \"scikit-learn\", \"gcsfs\", \"joblib\"])\n",
    "def generate_predictions(\n",
    "    dataset: Input[Dataset],\n",
    "    model: Input[Model],\n",
    "    predictions_output: Output[Dataset]\n",
    "):\n",
    "    import pandas as pd\n",
    "    import joblib\n",
    "    # Cargar el dataset preprocesado\n",
    "    df = pd.read_csv(dataset.path)\n",
    "    \n",
    "    # Cargar el modelo entrenado\n",
    "    rf = joblib.load(model.path)\n",
    "\n",
    "    # Generar predicciones\n",
    "    predicciones = {\"fecha\": [], \"prediccion\": []}\n",
    "    r = 630\n",
    "    c = -0.3\n",
    "    for x in range(-250, -1):\n",
    "        checkin50 = df['Checkin_MA_50'].iloc[x]\n",
    "        checkin180 = df['Checkin_MA_180'].iloc[x]\n",
    "        checkin365 = df['Checkin_MA_365'].iloc[x]\n",
    "        abiertos50 = df['Locales_Abiertos_MA_50'].iloc[x]\n",
    "        abiertos180 = df['Locales_Abiertos_MA_180'].iloc[x]\n",
    "        abiertos365 = df['Locales_Abiertos_MA_365'].iloc[x]\n",
    "        abiertos = df['Locales_Abiertos'].iloc[x]\n",
    "        checkin = df['checkin'].iloc[x]\n",
    "        # Aquí usamos el modelo para hacer la predicción\n",
    "        prediction = r + (x * c) + rf.predict([[checkin50, checkin180, checkin365, abiertos50, abiertos180, abiertos365, checkin, abiertos]])[0]\n",
    "        predicciones[\"prediccion\"].append(prediction)\n",
    "        # Aquí convertimos la fecha a datetime y le sumamos 180 días\n",
    "        predicciones[\"fecha\"].append((pd.to_datetime(df[\"date\"].iloc[x]) + pd.Timedelta(days=180)).strftime('%Y-%m-%d'))\n",
    "\n",
    "    # Convertir las predicciones a un DataFrame y guardarlo como CSV\n",
    "    predictions_df = pd.DataFrame(predicciones)\n",
    "    predictions_df.to_csv(predictions_output.path, index=False)\n",
    "\n",
    "    print(f\"Predicciones guardadas en {predictions_output.path}\")\n",
    "\n"
   ]
  },
  {
   "cell_type": "code",
   "execution_count": 135,
   "id": "5fb295ca-a4fe-45fb-b728-95fc1db818cd",
   "metadata": {},
   "outputs": [],
   "source": [
    "from kfp.v2.dsl import component, Input, Output, Dataset, HTML\n",
    "\n",
    "@component(packages_to_install=[\"pandas\", \"matplotlib\"])\n",
    "def plot_predictions(\n",
    "    predictions: Input[Dataset],\n",
    "    historical_data: Input[Dataset],\n",
    "    plot_output: Output[HTML]\n",
    "):\n",
    "    import pandas as pd\n",
    "    import matplotlib.pyplot as plt\n",
    "    from io import BytesIO\n",
    "    import base64\n",
    "\n",
    "    # Cargar los datos de predicciones y los datos históricos\n",
    "    df_predicciones = pd.read_csv(predictions.path)\n",
    "    fl_df = pd.read_csv(historical_data.path)\n",
    "\n",
    "    # Asegurarse de que las fechas están en formato datetime\n",
    "    df_predicciones['fecha'] = pd.to_datetime(df_predicciones['fecha'])\n",
    "    fl_df['date'] = pd.to_datetime(fl_df['date'])\n",
    "\n",
    "    # Ordenar los DataFrames por fecha\n",
    "    df_predicciones.sort_values('fecha', inplace=True)\n",
    "    fl_df.sort_values('date', inplace=True)\n",
    "\n",
    "    # Seleccionar los últimos 1000 datos\n",
    "    df_predicciones_last_1000 = df_predicciones.tail(1000)\n",
    "    fl_df_last_1000 = fl_df.tail(1000)\n",
    "\n",
    "    # Crear el gráfico\n",
    "    plt.figure(figsize=(15,7))\n",
    "    plt.plot(fl_df_last_1000['date'], fl_df_last_1000['Locales_Abiertos'], label='Locales Abiertos', color='blue')\n",
    "    plt.plot(df_predicciones_last_1000['fecha'], df_predicciones_last_1000['prediccion'], label='Predicciones', color='red', linestyle='--')\n",
    "    plt.title('Locales Abiertos vs Predicciones (Últimos 1000 Datos)')\n",
    "    plt.xlabel('Fecha')\n",
    "    plt.ylabel('Cantidad')\n",
    "    plt.legend()\n",
    "    plt.grid(True)\n",
    "    \n",
    "    # Guardar la figura en un buffer\n",
    "    buf = BytesIO()\n",
    "    plt.savefig(buf, format='png')\n",
    "    buf.seek(0)\n",
    "    plt.close()\n",
    "    \n",
    "    # Codificar la imagen en base64 y escribirla en el archivo de salida\n",
    "    data_uri = base64.b64encode(buf.read()).decode('utf-8')\n",
    "    html = '<img src=\"data:image/png;base64,{0}\">'.format(data_uri)\n",
    "    with open(plot_output.path, 'w') as f:\n",
    "        f.write(html)\n"
   ]
  },
  {
   "cell_type": "code",
   "execution_count": 136,
   "id": "8e419a36-bfb1-4b6d-a7ca-9d0fbbf3c3d1",
   "metadata": {},
   "outputs": [],
   "source": [
    "from kfp.v2.dsl import pipeline, Dataset\n",
    "from google_cloud_pipeline_components import aiplatform as gcc_aip\n",
    "\n",
    "@pipeline(\n",
    "    name=\"data-loading-pipeline\",\n",
    "    description=\"A pipeline that loads data from GCS.\"\n",
    ")\n",
    "def data_loading_pipeline(\n",
    "    bucket_name: str = \"oa_suarez_merchan\",\n",
    "    business_file_path: str = \"Business_Benja.csv\",\n",
    "):\n",
    "\n",
    "    load_business_data_task = load_data_from_gcs(\n",
    "        bucket_name=bucket_name,\n",
    "        file_path=business_file_path\n",
    "    )\n",
    "    \n",
    "    train_and_evaluate_model_task = train_and_evaluate_model(\n",
    "        dataset=load_business_data_task.outputs['output_data']\n",
    "    )\n",
    "\n",
    "\n",
    "    generate_predictions_task = generate_predictions(\n",
    "        dataset=load_business_data_task.outputs['output_data'],\n",
    "        model=train_and_evaluate_model_task.outputs['model_output']  # Asegúrate de usar el nombre correcto de la salida\n",
    "    )\n",
    "    \n",
    "    plot_predictions_task = plot_predictions(\n",
    "        predictions=generate_predictions_task.outputs['predictions_output'],\n",
    "        historical_data=load_business_data_task.outputs['output_data']\n",
    "    )    \n"
   ]
  },
  {
   "cell_type": "code",
   "execution_count": 137,
   "id": "5f2584a3-ff18-4f52-8d7e-7820408aa4f8",
   "metadata": {},
   "outputs": [],
   "source": [
    "from kfp.v2 import compiler\n",
    "\n",
    "compiler.Compiler().compile(\n",
    "    pipeline_func=data_loading_pipeline,\n",
    "    package_path=\"data_loading_pipeline.json\"\n",
    ")"
   ]
  },
  {
   "cell_type": "code",
   "execution_count": 138,
   "id": "a820a520-7381-4ef5-87ab-b1464de03b88",
   "metadata": {},
   "outputs": [],
   "source": [
    "from datetime import datetime\n",
    "import re\n",
    "\n",
    "TIMESTAMP = datetime.now().strftime(\"%Y%m%d%H%M%S\").lower()\n",
    "job_id = \"time-series-pipeline-{0}\".format(TIMESTAMP)\n",
    "job_id = re.sub(r\"[^-a-z0-9]+\", \"-\", job_id)\n",
    "\n",
    "job = aiplatform.PipelineJob(\n",
    "    display_name=\"time-series-pipeline\",\n",
    "    template_path=\"data_loading_pipeline.json\",\n",
    "    job_id=job_id,\n",
    "    enable_caching=True\n",
    ")"
   ]
  },
  {
   "cell_type": "code",
   "execution_count": 139,
   "id": "4e374f5c-8c63-4d57-b9de-af6772f151a0",
   "metadata": {},
   "outputs": [
    {
     "name": "stdout",
     "output_type": "stream",
     "text": [
      "Creating PipelineJob\n",
      "PipelineJob created. Resource name: projects/414169182204/locations/us-central1/pipelineJobs/time-series-pipeline-20231109235833\n",
      "To use this PipelineJob in another session:\n",
      "pipeline_job = aiplatform.PipelineJob.get('projects/414169182204/locations/us-central1/pipelineJobs/time-series-pipeline-20231109235833')\n",
      "View Pipeline Job:\n",
      "https://console.cloud.google.com/vertex-ai/locations/us-central1/pipelines/runs/time-series-pipeline-20231109235833?project=414169182204\n"
     ]
    }
   ],
   "source": [
    "job.submit()"
   ]
  },
  {
   "cell_type": "code",
   "execution_count": null,
   "id": "e1080575-77e7-409a-b498-488847ce1a82",
   "metadata": {},
   "outputs": [],
   "source": []
  }
 ],
 "metadata": {
  "environment": {
   "kernel": "python3",
   "name": "tf2-gpu.2-6.m112",
   "type": "gcloud",
   "uri": "gcr.io/deeplearning-platform-release/tf2-gpu.2-6:m112"
  },
  "kernelspec": {
   "display_name": "Python 3",
   "language": "python",
   "name": "python3"
  },
  "language_info": {
   "codemirror_mode": {
    "name": "ipython",
    "version": 3
   },
   "file_extension": ".py",
   "mimetype": "text/x-python",
   "name": "python",
   "nbconvert_exporter": "python",
   "pygments_lexer": "ipython3",
   "version": "3.9.18"
  }
 },
 "nbformat": 4,
 "nbformat_minor": 5
}
