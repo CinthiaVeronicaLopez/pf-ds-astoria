{
 "cells": [
  {
   "cell_type": "code",
   "execution_count": 1,
   "id": "ff180bec-8096-4a40-a4a1-5346a957ee38",
   "metadata": {},
   "outputs": [],
   "source": [
    "USER_FLAG = \"--user\""
   ]
  },
  {
   "cell_type": "code",
   "execution_count": 2,
   "id": "ed2f1fc7-df8e-405f-be51-09a5ae3fd31e",
   "metadata": {},
   "outputs": [],
   "source": [
    "!pip3 install {USER_FLAG} google-cloud-aiplatform>=1.7.0 --upgrade\n",
    "!pip3 install {USER_FLAG} kfp>=1.8.9 google-cloud-pipeline-components>=0.2.0"
   ]
  },
  {
   "cell_type": "code",
   "execution_count": 3,
   "id": "5bde79a6-505d-45f8-a9f0-ed55691fedc5",
   "metadata": {},
   "outputs": [],
   "source": [
    "import os\n",
    "\n",
    "if not os.getenv(\"IS_TESTING\"):\n",
    "    # Automatically restart kernel after installs\n",
    "    import IPython\n",
    "\n",
    "    app = IPython.Application.instance()\n",
    "    app.kernel.do_shutdown(True)"
   ]
  },
  {
   "cell_type": "code",
   "execution_count": 1,
   "id": "0aa04117-14a9-4392-a1aa-5abfb6306ffa",
   "metadata": {},
   "outputs": [
    {
     "name": "stdout",
     "output_type": "stream",
     "text": [
      "KFP SDK version: 1.8.22\n",
      "google_cloud_pipeline_components version: 0.2.0\n"
     ]
    }
   ],
   "source": [
    "!python3 -c \"import kfp; print('KFP SDK version: {}'.format(kfp.__version__))\"\n",
    "!python3 -c \"import google_cloud_pipeline_components; print('google_cloud_pipeline_components version: {}'.format(google_cloud_pipeline_components.__version__))\""
   ]
  },
  {
   "cell_type": "code",
   "execution_count": 2,
   "id": "51162223-172c-4b58-8b3e-91d232887cf5",
   "metadata": {},
   "outputs": [
    {
     "name": "stdout",
     "output_type": "stream",
     "text": [
      "Project ID:  oa-suarez-prueba\n"
     ]
    }
   ],
   "source": [
    "import os\n",
    "PROJECT_ID = \"\"\n",
    "\n",
    "# Get your Google Cloud project ID from gcloud\n",
    "if not os.getenv(\"IS_TESTING\"):\n",
    "    shell_output=!gcloud config list --format 'value(core.project)' 2>/dev/null\n",
    "    PROJECT_ID = shell_output[0]\n",
    "    print(\"Project ID: \", PROJECT_ID)"
   ]
  },
  {
   "cell_type": "code",
   "execution_count": 3,
   "id": "a26f54b4-43d2-4be2-9297-a7b49749eef5",
   "metadata": {},
   "outputs": [],
   "source": [
    "BUCKET_NAME=\"gs://\" + PROJECT_ID + \"-oa-suarez-merchan\""
   ]
  },
  {
   "cell_type": "code",
   "execution_count": 4,
   "id": "2bbfbff0-8e4c-47c5-a837-90851572d89e",
   "metadata": {},
   "outputs": [],
   "source": [
    "import kfp\n",
    "\n",
    "from kfp.v2 import compiler, dsl\n",
    "from kfp.v2.dsl import component, pipeline, Artifact, ClassificationMetrics, Input, Output, Model, Metrics\n",
    "\n",
    "from google.cloud import aiplatform\n",
    "from google_cloud_pipeline_components import aiplatform as gcc_aip\n",
    "from typing import NamedTuple"
   ]
  },
  {
   "cell_type": "code",
   "execution_count": 5,
   "id": "f51bc965-6e20-40b4-826a-e4b26a0cd2a6",
   "metadata": {},
   "outputs": [
    {
     "name": "stdout",
     "output_type": "stream",
     "text": [
      "env: PATH=/usr/local/cuda/bin:/opt/conda/bin:/opt/conda/condabin:/usr/local/bin:/usr/bin:/bin:/usr/local/games:/usr/games:/home/jupyter/.local/bin\n"
     ]
    },
    {
     "data": {
      "text/plain": [
       "'gs://oa-suarez-prueba-oa-suarez-merchan/pipeline_root/'"
      ]
     },
     "execution_count": 5,
     "metadata": {},
     "output_type": "execute_result"
    }
   ],
   "source": [
    "PATH=%env PATH\n",
    "%env PATH={PATH}:/home/jupyter/.local/bin\n",
    "REGION=\"us-central1\"\n",
    "\n",
    "PIPELINE_ROOT = f\"{BUCKET_NAME}/pipeline_root/\"\n",
    "PIPELINE_ROOT"
   ]
  },
  {
   "cell_type": "code",
   "execution_count": 6,
   "id": "6e2c2bec-a762-4cf2-88fd-2562281cbfb7",
   "metadata": {},
   "outputs": [],
   "source": [
    "@component(base_image=\"python:3.9\", output_component_file=\"first-component.yaml\")\n",
    "def product_name(text: str) -> str:\n",
    "    return text"
   ]
  },
  {
   "cell_type": "code",
   "execution_count": 78,
   "id": "397c715b-3612-4234-9540-a0dc4bed84d7",
   "metadata": {},
   "outputs": [],
   "source": [
    "from kfp.v2.dsl import component, Output, Dataset\n",
    "\n",
    "\n",
    "@component(packages_to_install=[\"pandas\", \"gcsfs\"])\n",
    "def load_data_from_gcs(\n",
    "    bucket_name: str,\n",
    "    file_path: str,\n",
    "    output_data: Output[Dataset]\n",
    "):\n",
    "    import gcsfs\n",
    "    import pandas as pd\n",
    "\n",
    "    # Carga los datos del archivo CSV en Google Cloud Storage\n",
    "    fs = gcsfs.GCSFileSystem()\n",
    "    gcs_file_path = f'gs://{bucket_name}/{file_path}'\n",
    "\n",
    "    df_nuevo = pd.read_csv(gcs_file_path)\n",
    "\n",
    "    # Añade una columna `sentimiento` al DataFrame\n",
    "    df_nuevo['sentimiento'] = pd.NaT\n",
    "    \n",
    "    #Guarda el data frame en un CSV\n",
    "    df_nuevo.to_csv(output_data.path, index=False)\n",
    "\n",
    "    print(f\"Datos cargados y guardados en {output_data.path}\")\n",
    "   \n"
   ]
  },
  {
   "cell_type": "code",
   "execution_count": 79,
   "id": "32433812-3a1f-4a02-b464-d22e643fe428",
   "metadata": {},
   "outputs": [],
   "source": [
    "from kfp.v2.dsl import component, Input\n",
    "\n",
    "@component(packages_to_install=[\"pandas\", \"scikit-learn\",\"nltk\"])\n",
    "def train_and_evaluate_model(\n",
    "    dataset: Input[Dataset],\n",
    "    model_output: Output[Model]\n",
    "):\n",
    "    import pandas as pd\n",
    "    import sklearn \n",
    "    from sklearn.model_selection import train_test_split\n",
    "    import nltk\n",
    "    from nltk.sentiment.vader import SentimentIntensityAnalyzer\n",
    "    import joblib\n",
    "    \n",
    "    df_nuevo = pd.read_csv(dataset.path)\n",
    "    # Divide el DataFrame en conjuntos de entrenamiento, validación y prueba\n",
    "    X_train, X_test, y_train, y_test = train_test_split(df_nuevo['text'], df_nuevo['sentimiento'], test_size=0.25, random_state=42)\n",
    "\n",
    "    # Entrena un modelo de machine learning para predecir el sentimiento de las reseñas\n",
    "    nltk.download('vader_lexicon')\n",
    "    model = SentimentIntensityAnalyzer()\n",
    "\n",
    "    joblib.dump(model, model_output.path) \n",
    "\n",
    "    \n"
   ]
  },
  {
   "cell_type": "code",
   "execution_count": 85,
   "id": "f2e43c84-8f7f-4653-999c-dfdefe65ccba",
   "metadata": {},
   "outputs": [],
   "source": [
    "from kfp.v2.dsl import component, Input, Output, Model, Dataset\n",
    "\n",
    "@component(packages_to_install=[\"pandas\", \"scikit-learn\", \"gcsfs\", \"joblib\", \"nltk\"])\n",
    "def generate_predictions(\n",
    "    dataset: Input[Dataset],\n",
    "    model: Input[Model],\n",
    "    predictions_output: Output[Dataset]\n",
    "):\n",
    "    import pandas as pd\n",
    "    import joblib\n",
    "    import nltk\n",
    "    from nltk.sentiment.vader import SentimentIntensityAnalyzer\n",
    "    \n",
    "    # Cargar el dataset preprocesado\n",
    "    df = pd.read_csv(dataset.path)\n",
    "    \n",
    "    # Generar predicciones\n",
    "    predicciones = {\"texto\": [], \"prediccion_sentimiento\": []}  \n",
    "    \n",
    "    # Cargar el modelo entrenado\n",
    "    sia = joblib.load(model.path)\n",
    "    \n",
    "    for i in df['text']:\n",
    "        score = sia.polarity_scores(i)['pos']\n",
    "        predicciones['prediccion_sentimiento'].append(score)\n",
    "        predicciones['texto'].append(i)\n",
    "    \n",
    "    df_prediccion = pd.DataFrame(predicciones)\n",
    "     \n",
    "    \n",
    "    # Convertir las predicciones a un DataFrame y guardarlo como CSV\n",
    "    \n",
    "    df_prediccion.to_csv(predictions_output.path, index=False)\n",
    "\n",
    "    print(f\"Predicciones guardadas en {predictions_output.path}\")"
   ]
  },
  {
   "cell_type": "code",
   "execution_count": 86,
   "id": "2f721fd0-ffed-4a14-9f93-84df50cb1a5f",
   "metadata": {},
   "outputs": [],
   "source": [
    "@pipeline(\n",
    "    name=\"data-loading-pipeline\",\n",
    "    description=\"A pipeline that loads data from GCS.\"\n",
    ")\n",
    "def data_loading_pipeline(\n",
    "    bucket_name: str = \"analisis-de-sentimiento\",\n",
    "    business_file_path: str = \"texto.csv\",\n",
    "):\n",
    "\n",
    "    load_business_data_task = load_data_from_gcs(\n",
    "        bucket_name=bucket_name,\n",
    "        file_path=business_file_path\n",
    "    )\n",
    "    \n",
    "    train_and_evaluate_model_task = train_and_evaluate_model(\n",
    "        dataset=load_business_data_task.outputs['output_data']\n",
    "    )\n",
    "    generate_predictions_task = generate_predictions(\n",
    "        dataset=load_business_data_task.outputs['output_data'],\n",
    "        model=train_and_evaluate_model_task.outputs['model_output']  \n",
    "    )"
   ]
  },
  {
   "cell_type": "code",
   "execution_count": 87,
   "id": "5f2584a3-ff18-4f52-8d7e-7820408aa4f8",
   "metadata": {},
   "outputs": [],
   "source": [
    "from kfp.v2 import compiler\n",
    "\n",
    "compiler.Compiler().compile(\n",
    "    pipeline_func=data_loading_pipeline,\n",
    "    package_path=\"data_loading_pipeline.json\"\n",
    ")"
   ]
  },
  {
   "cell_type": "code",
   "execution_count": 88,
   "id": "a820a520-7381-4ef5-87ab-b1464de03b88",
   "metadata": {},
   "outputs": [],
   "source": [
    "from datetime import datetime\n",
    "import re\n",
    "\n",
    "TIMESTAMP = datetime.now().strftime(\"%Y%m%d%H%M%S\").lower()\n",
    "job_id = \"time-series-pipeline-{0}\".format(TIMESTAMP)\n",
    "job_id = re.sub(r\"[^-a-z0-9]+\", \"-\", job_id)\n",
    "\n",
    "job = aiplatform.PipelineJob(\n",
    "    display_name=\"time-series-pipeline\",\n",
    "    template_path=\"data_loading_pipeline.json\",\n",
    "    job_id=job_id,\n",
    "    enable_caching=True\n",
    ")"
   ]
  },
  {
   "cell_type": "code",
   "execution_count": 89,
   "id": "4e374f5c-8c63-4d57-b9de-af6772f151a0",
   "metadata": {},
   "outputs": [
    {
     "name": "stdout",
     "output_type": "stream",
     "text": [
      "Creating PipelineJob\n",
      "PipelineJob created. Resource name: projects/414169182204/locations/us-central1/pipelineJobs/time-series-pipeline-20231110044312\n",
      "To use this PipelineJob in another session:\n",
      "pipeline_job = aiplatform.PipelineJob.get('projects/414169182204/locations/us-central1/pipelineJobs/time-series-pipeline-20231110044312')\n",
      "View Pipeline Job:\n",
      "https://console.cloud.google.com/vertex-ai/locations/us-central1/pipelines/runs/time-series-pipeline-20231110044312?project=414169182204\n"
     ]
    }
   ],
   "source": [
    "job.submit()"
   ]
  },
  {
   "cell_type": "code",
   "execution_count": null,
   "id": "e1080575-77e7-409a-b498-488847ce1a82",
   "metadata": {},
   "outputs": [],
   "source": []
  }
 ],
 "metadata": {
  "environment": {
   "kernel": "python3",
   "name": "tf2-gpu.2-6.m112",
   "type": "gcloud",
   "uri": "gcr.io/deeplearning-platform-release/tf2-gpu.2-6:m112"
  },
  "kernelspec": {
   "display_name": "Python 3",
   "language": "python",
   "name": "python3"
  },
  "language_info": {
   "codemirror_mode": {
    "name": "ipython",
    "version": 3
   },
   "file_extension": ".py",
   "mimetype": "text/x-python",
   "name": "python",
   "nbconvert_exporter": "python",
   "pygments_lexer": "ipython3",
   "version": "3.9.18"
  }
 },
 "nbformat": 4,
 "nbformat_minor": 5
}
