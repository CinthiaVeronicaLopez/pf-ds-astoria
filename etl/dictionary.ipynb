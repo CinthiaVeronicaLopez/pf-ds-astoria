{
 "cells": [
  {
   "attachments": {},
   "cell_type": "markdown",
   "metadata": {},
   "source": [
    "### Diccionario de datos"
   ]
  },
  {
   "attachments": {},
   "cell_type": "markdown",
   "metadata": {},
   "source": [
    "**Este archivo ofrece una descripción detallada de los datos utilizados en el proyecto de Google Maps y Yelp. Su utilidad radica en promover una comprensión común y precisa de los datos, facilitando así una colaboración más efectiva y la toma de decisiones informadas en el proyecto.**"
   ]
  },
  {
   "attachments": {},
   "cell_type": "markdown",
   "metadata": {},
   "source": [
    "| Nombre de Tabla | Atributo             | Descripción                                                                                       |\n",
    "|-----------------|----------------------|---------------------------------------------------------------------------------------------------|\n",
    "| Review          | Cool                 | Número de votos marcados como interesantes o \"cool\" por el usuario.                              |\n",
    "| Review          | Date                 | Fecha en la que se escribió la reseña en formato YYYY-MM-DD.                                       |\n",
    "| Review          | Funny                | Número de votos marcados como graciosos por el usuario.                                            |\n",
    "| Review          | Id_business          | Id único del negocio.                                                                             |\n",
    "| Review          | Id_review            | Id único de la reseña.                                                                            |\n",
    "| Review          | Stars                | Puntuación de la reseña en estrellas, en una escala del 1 al 5.                                    |\n",
    "| Review          | Text                 | Texto completo de la reseña en inglés.                                                             |\n",
    "| Review          | Useful               | Número de votos que la reseña ha recibido como útil.                                               |\n",
    "| Business        | Address              | Dirección completa del negocio.                                                                   |\n",
    "| Business        | City                 | Ciudad donde se encuentra el negocio.                                                              |\n",
    "| Business        | Id_business          | Id único del negocio.                                                                             |\n",
    "| Business        | Latitude             | Coordenadas de latitud.                                                                           |\n",
    "| Business        | Longitude            | Coordenadas de longitud.                                                                          |\n",
    "| Business        | Name                 | Nombre del comercio.                                                                              |\n",
    "| Business        | Review_count         | Número de reseñas escritas por el usuario.                                                         |\n",
    "| Business        | Stars                | Puntuación de la reseña en estrellas, en una escala del 1 al 5.                                    |\n",
    "| Business        | State                | Proporciona información sobre el horario actual y el próximo horario de apertura del lugar.        |\n",
    "| Usuario         | Average_stars        | Promedio del valor de las reseñas realizadas por el usuario.                                       |\n",
    "| Usuario         | Compliment_Cool      | Total de cumplidos \"cool\" recibidos por el usuario.                                                |\n",
    "| Usuario         | Compliment_cute      | Total de cumplidos \"cute\" recibidos por el usuario.                                                |\n",
    "| Usuario         | Compliment_funny     | Total de cumplidos graciosos recibidos por el usuario.                                             |\n",
    "| Usuario         | Compliment_hot       | Total de cumplidos \"hot\" recibidos por el usuario.                                                 |\n",
    "| Usuario         | Compliment_list      | Total de listas de cumplidos recibidos por el usuario.                                             |\n",
    "| Usuario         | Compliment_more      | Total de cumplidos varios recibidos por el usuario.                                                |\n",
    "| Usuario         | Compliment_note      | Total de cumplidos como notas recibidos por el usuario.                                            |\n",
    "| Usuario         | Compliment_photos    | Número de cumplidos en foto recibidos por el usuario.                                              |\n",
    "| Usuario         | Compliment_plain     | Total de cumplidos planos recibidos por el usuario.                                                |\n",
    "| Usuario         | Compliment_profile   | Total de cumplidos por el perfil recibidos por el usuario.                                         |\n",
    "| Usuario         | Compliment_writer    | Número de cumplidos escritos recibidos por el usuario.                                             |\n",
    "| Usuario         | Cool                 | Número de votos marcados como interesantes o \"cool\" por el usuario.                                |\n",
    "| Usuario         | Fans                 | Número de fans que tiene el usuario.                                                               |\n",
    "| Usuario         | Funny                | Número de votos marcados como graciosos por el usuario.                                            |\n",
    "| Usuario         | Id_user              | ID único de usuario que hace referencia al usuario en el archivo user.json.                       |\n",
    "| Usuario         | Name                 | Nombre del usuario.                                                                               |\n",
    "| Usuario         | Review_count         | Número de reseñas escritas por el usuario.                                                         |\n",
    "| Usuario         | Useful               | Número de votos marcados como útiles por el usuario.                                               |\n",
    "| Usuario         | Yelping_Since        | Fecha de creación del usuario en Yelp en formato YYYY-MM-DD.                                       |\n",
    "| Tips            | Compliment_count     | Cantidad total de cumplidos recibidos por el consejo.                                              |\n",
    "| Tips            | Date                 | Fecha en la que se escribió el consejo en formato YYYY-MM-DD.                                      |\n",
    "| Tips            | Id_business          | ID único del negocio al que se refiere el consejo, haciendo referencia al negocio en el archivo business.json. |\n",
    "| Tips            | Id_user              | ID único de usuario que se refiere al usuario en el archivo user.json.                             |\n",
    "| Tips            | Text                 | Texto del consejo o sugerencia.                                                                    |\n",
    "| BusinessDetallesHora   | Id_business   | ID único del negocio.                                                                             |\n",
    "| BusinessDetallesHora   | Id_hour       | ID único de los diferentes horarios de atención.                                                   |\n",
    "| DetalleCategorias      | Id_business   | ID único del negocio.                                                                             |\n",
    "| DetalleCategorias      | IdCategoría   | ID único de la categoría a la que pertenece el negocio.                                            |\n",
    "| Categorias             | Descripcion   | ID único de la categoría a la que pertenece el negocio.                                            |\n",
    "| Categorias             | IdCategoria   | Categoría del negocio.                                                                            |\n",
    "| businessHorario        | Id_hour       | ID único de los diferentes horarios de atención.                                                   |\n",
    "| businessHorario        | Descripcion   | Descripción del horario de atención.                                                               |\n",
    "| DetalleAtributos       | Id_business   | ID único del negocio.                                                                             |\n",
    "| DetalleAtributos       | Id_Atributos  | ID único de los atributos del negocio.                                                             |\n",
    "| Atributos              | Descripcion   | Descripción del atributo del negocio.                                                              |\n",
    "| Atributos              | IdAtributos   | ID único de los atributos del negocio.                                                             |\n",
    "| BusinessYelpId         | businessYelp_id      | ID único del negocio original en Yelp.                                                             |\n",
    "| BusinessYelpId         | Column1              |                                                                                                   |\n",
    "| BusinessYelpId         | Id_business          | ID único del negocio.                                                                             |\n",
    "| UsuarioYelp            | Id_user              | ID único de usuario que se refiere al usuario en el archivo user.json.                             |\n",
    "| UsuarioYelp            | Yelp_id              | ID único de usuario original en Yelp.                                                              |\n",
    "| UsuarioElite           | Id_user              | ID único de usuario que se refiere al usuario en el archivo user.json.                             |\n",
    "| UsuarioElite           | years                | Años.                                                                                             |\n"
   ]
  }
 ],
 "metadata": {
  "kernelspec": {
   "display_name": "Python 3",
   "language": "python",
   "name": "python3"
  },
  "language_info": {
   "name": "python",
   "version": "3.9.13"
  },
  "orig_nbformat": 4
 },
 "nbformat": 4,
 "nbformat_minor": 2
}
